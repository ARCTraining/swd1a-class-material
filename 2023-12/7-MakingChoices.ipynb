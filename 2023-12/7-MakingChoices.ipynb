{
  "cells": [
    {
      "cell_type": "markdown",
      "metadata": {},
      "source": [
        "# SWD1a - Introduction to Python\n",
        "\n",
        "Material developed in December 13th 2023.\n",
        "\n",
        "## Topic 7: Making choices"
      ]
    },
    {
      "cell_type": "code",
      "execution_count": 6,
      "metadata": {},
      "outputs": [],
      "source": [
        "# one choice\n",
        "num = 37\n",
        "\n",
        "if num >= 100: # Scenario where num is bigger than 100 >> print(\"greater\")\n",
        "    print(\"greater\")"
      ]
    },
    {
      "cell_type": "code",
      "execution_count": 7,
      "metadata": {
        "colab": {
          "base_uri": "https://localhost:8080/"
        },
        "id": "gcXqrj0XaasE",
        "outputId": "a6347e7d-0957-42d7-9fc5-eb378f16b9ae"
      },
      "outputs": [
        {
          "name": "stdout",
          "output_type": "stream",
          "text": [
            "greater\n"
          ]
        }
      ],
      "source": [
        "# Two related choices\n",
        "num = 100\n",
        "\n",
        "\n",
        "if num >= 100: # Scenario where num is bigger than 100 >> print(\"greater\")\n",
        "    print(\"greater\")\n",
        "else: # anything else >> print(\"not greater\")    \n",
        "    print(\"not greater\")"
      ]
    },
    {
      "cell_type": "code",
      "execution_count": 8,
      "metadata": {
        "colab": {
          "base_uri": "https://localhost:8080/"
        },
        "id": "7WscG7Csbo0Q",
        "outputId": "38eb5fac-dbff-4f49-ec78-a892093538b3"
      },
      "outputs": [
        {
          "data": {
            "text/plain": [
              "False"
            ]
          },
          "execution_count": 8,
          "metadata": {},
          "output_type": "execute_result"
        }
      ],
      "source": [
        "# Note: the conditional returns a boolean: True or False\n",
        "num > 100"
      ]
    },
    {
      "cell_type": "code",
      "execution_count": 9,
      "metadata": {
        "colab": {
          "base_uri": "https://localhost:8080/"
        },
        "id": "bSKXF-todLlh",
        "outputId": "721cbf63-2f0f-43bb-e138-020e3e4cb341"
      },
      "outputs": [
        {
          "name": "stdout",
          "output_type": "stream",
          "text": [
            "very positive\n"
          ]
        }
      ],
      "source": [
        "# More than two related choices\n",
        "\n",
        "num = 500\n",
        "\n",
        "if num < -100:\n",
        "    print(\"very negative\")\n",
        "# condition for positive\n",
        "elif num < 0:\n",
        "    print(\"negative\")\n",
        "elif num > 100:\n",
        "    print(\"very positive\")\n",
        "elif num > 0:\n",
        "    print(\"positive\")\n",
        "# condition for zero\n",
        "else:\n",
        "    print(\"zero\")"
      ]
    },
    {
      "cell_type": "code",
      "execution_count": 10,
      "metadata": {
        "colab": {
          "base_uri": "https://localhost:8080/"
        },
        "id": "3B8osQDTfs5g",
        "outputId": "027f5fb5-2800-44bd-d43f-bad5b5a57496"
      },
      "outputs": [
        {
          "name": "stdout",
          "output_type": "stream",
          "text": [
            "very positive\n",
            "positive\n"
          ]
        }
      ],
      "source": [
        "# Note how the bellow produces the wrong answer:\n",
        "\n",
        "if num < -100:\n",
        "    print(\"very negative\")\n",
        "if num < 0:\n",
        "    print(\"negative\")\n",
        "if num > 100:\n",
        "    print(\"very positive\")\n",
        "if num > 0:\n",
        "    print(\"positive\")\n"
      ]
    },
    {
      "cell_type": "markdown",
      "metadata": {
        "id": "EWNWsNPmgikr"
      },
      "source": [
        "More than one condition"
      ]
    },
    {
      "cell_type": "code",
      "execution_count": 11,
      "metadata": {
        "colab": {
          "base_uri": "https://localhost:8080/"
        },
        "id": "iTiahlqzgm9Q",
        "outputId": "1940e77f-2bdb-489a-bba8-904989e9e045"
      },
      "outputs": [
        {
          "name": "stdout",
          "output_type": "stream",
          "text": [
            "both are true\n"
          ]
        }
      ],
      "source": [
        "if (1 > 0) and (10>=0): # and = &\n",
        "    print(\"both are true\")\n",
        "else:\n",
        "    print(\"at least one is false\")"
      ]
    },
    {
      "cell_type": "code",
      "execution_count": 12,
      "metadata": {
        "colab": {
          "base_uri": "https://localhost:8080/"
        },
        "id": "mmVyqKnNhyDb",
        "outputId": "34f3d017-2eb7-4b94-e8cd-ebe7f68514fe"
      },
      "outputs": [
        {
          "name": "stdout",
          "output_type": "stream",
          "text": [
            "at least one is True\n"
          ]
        }
      ],
      "source": [
        "if (10 > 0) or (-1>=0): # or = |\n",
        "    print(\"at least one is True\")\n",
        "else:\n",
        "    print(\"both are false\")"
      ]
    },
    {
      "cell_type": "code",
      "execution_count": 13,
      "metadata": {
        "colab": {
          "base_uri": "https://localhost:8080/"
        },
        "id": "rO_j2AY3itgc",
        "outputId": "fc1a324a-21ba-4953-d55b-1f891f6b5090"
      },
      "outputs": [
        {
          "name": "stdout",
          "output_type": "stream",
          "text": [
            "both are true\n"
          ]
        }
      ],
      "source": [
        "# You can nest your if blocks\n",
        "if (1 > 0):\n",
        "    if (10>=0):\n",
        "        print(\"both are true\")\n",
        "else:\n",
        "    print(\"at least one is false\")"
      ]
    },
    {
      "cell_type": "code",
      "execution_count": 14,
      "metadata": {
        "colab": {
          "base_uri": "https://localhost:8080/"
        },
        "id": "fDrthpRUjZ-A",
        "outputId": "602b6efd-ca42-4785-fa05-3f32d3a2f190"
      },
      "outputs": [
        {
          "name": "stdout",
          "output_type": "stream",
          "text": [
            "lower\n",
            "larger\n",
            "lower\n",
            "zero\n",
            "larger\n"
          ]
        }
      ],
      "source": [
        "# you can nest your \"if\" and \"for\" blocks\n",
        "nums = [-1, 5, -7, 0, 256]\n",
        "\n",
        "for num in nums:\n",
        "    # larger 0\n",
        "    if (num>0):\n",
        "        print(\"larger\")\n",
        "    # lower 0\n",
        "    elif (num<0):\n",
        "        print(\"lower\")\n",
        "    # zero\n",
        "    else:\n",
        "        print(\"zero\")"
      ]
    }
  ],
  "metadata": {
    "colab": {
      "provenance": []
    },
    "kernelspec": {
      "display_name": "Python 3.9.13 ('base')",
      "language": "python",
      "name": "python3"
    },
    "language_info": {
      "codemirror_mode": {
        "name": "ipython",
        "version": 3
      },
      "file_extension": ".py",
      "mimetype": "text/x-python",
      "name": "python",
      "nbconvert_exporter": "python",
      "pygments_lexer": "ipython3",
      "version": "3.9.13"
    },
    "vscode": {
      "interpreter": {
        "hash": "1fe75babdc1202ac6874b4c1522ea6191ffacd755704d46ed06852d17e0c5ddb"
      }
    }
  },
  "nbformat": 4,
  "nbformat_minor": 0
}
