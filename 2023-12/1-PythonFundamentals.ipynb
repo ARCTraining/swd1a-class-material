{
  "cells": [
    {
      "cell_type": "markdown",
      "metadata": {
        "id": "s_vyyk9Vq4v7"
      },
      "source": [
        "# SWD1a - Introduction to Python\n",
        "\n",
        "Material developed in December 06th 2023."
      ]
    },
    {
      "cell_type": "markdown",
      "metadata": {},
      "source": [
        "## Topic 1: Python Fundamentals\n",
        "\n",
        "Questions:\n",
        "\n",
        "- What basic data types can I work with in Python?\n",
        "- How can I create a new variable in Python?\n",
        "- How do I use a function?\n",
        "- Can I change the value associated with a variable after I create it?\n",
        "\n",
        "Objectives:\n",
        "\n",
        "- Assign values to variables."
      ]
    },
    {
      "cell_type": "markdown",
      "metadata": {},
      "source": [
        "### Variables"
      ]
    },
    {
      "cell_type": "code",
      "execution_count": 1,
      "metadata": {
        "colab": {
          "base_uri": "https://localhost:8080/"
        },
        "id": "EN8H9eOgzU2b",
        "outputId": "efce9197-0559-4e60-f9aa-33477e9dc283"
      },
      "outputs": [
        {
          "data": {
            "text/plain": [
              "23"
            ]
          },
          "execution_count": 1,
          "metadata": {},
          "output_type": "execute_result"
        }
      ],
      "source": [
        "# Any Python interpreter can be used as a calculator:\n",
        "3 + 5 * 4"
      ]
    },
    {
      "cell_type": "code",
      "execution_count": 2,
      "metadata": {
        "id": "I5vqFPzdzgIJ"
      },
      "outputs": [],
      "source": [
        "# To do anything useful with data, we need to assign its value to a variable:\n",
        "weight_kg = 60"
      ]
    },
    {
      "cell_type": "code",
      "execution_count": 3,
      "metadata": {
        "colab": {
          "base_uri": "https://localhost:8080/"
        },
        "id": "aI_TnZcvzsDl",
        "outputId": "bfd04aa9-c963-4f02-837a-9cbfd33348a1"
      },
      "outputs": [
        {
          "data": {
            "text/plain": [
              "60"
            ]
          },
          "execution_count": 3,
          "metadata": {},
          "output_type": "execute_result"
        }
      ],
      "source": [
        "# Display what value the variable has\n",
        "weight_kg"
      ]
    },
    {
      "cell_type": "code",
      "execution_count": 4,
      "metadata": {
        "colab": {
          "base_uri": "https://localhost:8080/"
        },
        "id": "SFCjyHrKzv6N",
        "outputId": "d1646cf7-132f-4720-bd53-36fd0acc6d43"
      },
      "outputs": [
        {
          "data": {
            "text/plain": [
              "65"
            ]
          },
          "execution_count": 4,
          "metadata": {},
          "output_type": "execute_result"
        }
      ],
      "source": [
        "# Using the variable as input for a calculation\n",
        "weight_kg + 5"
      ]
    },
    {
      "cell_type": "code",
      "execution_count": 5,
      "metadata": {
        "id": "ZC2v4y1z0D70"
      },
      "outputs": [],
      "source": [
        "# Assign a float (real number) value for a variable\n",
        "weight_kg = 60.3"
      ]
    },
    {
      "cell_type": "code",
      "execution_count": 6,
      "metadata": {
        "colab": {
          "base_uri": "https://localhost:8080/"
        },
        "id": "vCM1iZ3s0Wvj",
        "outputId": "b060683f-eb46-4ca0-fb09-d33e24bbd562"
      },
      "outputs": [
        {
          "data": {
            "text/plain": [
              "60.3"
            ]
          },
          "execution_count": 6,
          "metadata": {},
          "output_type": "execute_result"
        }
      ],
      "source": [
        "# Display what value the variable has\n",
        "weight_kg"
      ]
    },
    {
      "cell_type": "code",
      "execution_count": 7,
      "metadata": {
        "id": "UlMsR4SP0coN"
      },
      "outputs": [],
      "source": [
        "# Assign a string value for a variable\n",
        "patient_id = \"001\""
      ]
    },
    {
      "cell_type": "code",
      "execution_count": 8,
      "metadata": {
        "colab": {
          "base_uri": "https://localhost:8080/",
          "height": 35
        },
        "id": "OEf8Hn7E0qlS",
        "outputId": "fccb05d1-6138-42dd-afd0-cdd311995b3a"
      },
      "outputs": [
        {
          "data": {
            "text/plain": [
              "'001'"
            ]
          },
          "execution_count": 8,
          "metadata": {},
          "output_type": "execute_result"
        }
      ],
      "source": [
        "# Display what value the variable has\n",
        "patient_id"
      ]
    },
    {
      "cell_type": "markdown",
      "metadata": {},
      "source": [
        "### Using Variables in Python"
      ]
    },
    {
      "cell_type": "code",
      "execution_count": 9,
      "metadata": {
        "id": "nBMJrJGe1ATQ"
      },
      "outputs": [],
      "source": [
        "# We may want to store our patient’s weight in pounds as well as kilograms:\n",
        "weight_lb = 2.2 * weight_kg"
      ]
    },
    {
      "cell_type": "code",
      "execution_count": 10,
      "metadata": {
        "colab": {
          "base_uri": "https://localhost:8080/"
        },
        "id": "M0fcKEvl1HPZ",
        "outputId": "d9c52951-eec6-48c2-bb8a-13b9a16c95c8"
      },
      "outputs": [
        {
          "data": {
            "text/plain": [
              "132.66"
            ]
          },
          "execution_count": 10,
          "metadata": {},
          "output_type": "execute_result"
        }
      ],
      "source": [
        "# Display what value the variable has\n",
        "weight_lb"
      ]
    },
    {
      "cell_type": "code",
      "execution_count": 11,
      "metadata": {
        "id": "ETMDvSY91Iy4"
      },
      "outputs": [],
      "source": [
        "# We might decide to add a prefix to our patient identifier:\n",
        "patient_id = 'inflam_' + patient_id"
      ]
    },
    {
      "cell_type": "code",
      "execution_count": 12,
      "metadata": {
        "colab": {
          "base_uri": "https://localhost:8080/",
          "height": 35
        },
        "id": "J4K4kUOm1YxA",
        "outputId": "ed4c0c83-0c6d-41fe-f64c-184a5013ac94"
      },
      "outputs": [
        {
          "data": {
            "text/plain": [
              "'inflam_001'"
            ]
          },
          "execution_count": 12,
          "metadata": {},
          "output_type": "execute_result"
        }
      ],
      "source": [
        "# Display what value the variable has\n",
        "patient_id"
      ]
    },
    {
      "cell_type": "markdown",
      "metadata": {},
      "source": [
        "### Built-in Python functions"
      ]
    },
    {
      "cell_type": "code",
      "execution_count": 13,
      "metadata": {
        "colab": {
          "base_uri": "https://localhost:8080/"
        },
        "id": "Khce-G3a1arv",
        "outputId": "edba6abb-2daf-48d1-a8e8-25769a7b50cf"
      },
      "outputs": [
        {
          "name": "stdout",
          "output_type": "stream",
          "text": [
            "inflam_001\n",
            "60.3\n"
          ]
        }
      ],
      "source": [
        "# Using the \"print()\" function\n",
        "\n",
        "# Print what value the variable has\n",
        "print(patient_id)\n",
        "\n",
        "# Print what value the variable has\n",
        "print(weight_kg)"
      ]
    },
    {
      "cell_type": "code",
      "execution_count": 14,
      "metadata": {
        "colab": {
          "base_uri": "https://localhost:8080/"
        },
        "id": "lgg4IUmZ2V93",
        "outputId": "db75da95-b6c0-4992-8413-363b8702db75"
      },
      "outputs": [
        {
          "name": "stdout",
          "output_type": "stream",
          "text": [
            "inflam_001 weight in  kilograms:  60.3\n"
          ]
        }
      ],
      "source": [
        "# We can display multiple things at once using only one print call:\n",
        "print(patient_id, 'weight in  kilograms: ', weight_kg)"
      ]
    },
    {
      "cell_type": "code",
      "execution_count": 15,
      "metadata": {
        "colab": {
          "base_uri": "https://localhost:8080/"
        },
        "id": "lP8iVeKb2mlt",
        "outputId": "2fe75bf5-32d3-4710-815f-cd54fb346c6d"
      },
      "outputs": [
        {
          "name": "stdout",
          "output_type": "stream",
          "text": [
            "<class 'float'>\n",
            "<class 'str'>\n"
          ]
        }
      ],
      "source": [
        "# We can also call a function inside of another function call. \n",
        "# Example: combining the \"print()\" and the \"type()\" functions\n",
        "print(type(weight_kg))\n",
        "print(type(patient_id))"
      ]
    },
    {
      "cell_type": "code",
      "execution_count": 16,
      "metadata": {
        "colab": {
          "base_uri": "https://localhost:8080/"
        },
        "id": "eU6xSR0B3Igr",
        "outputId": "19e5bde9-2365-4a28-e2dd-ee2af9e0fa4d"
      },
      "outputs": [
        {
          "name": "stdout",
          "output_type": "stream",
          "text": [
            "Weight in pounds:  132.66\n"
          ]
        }
      ],
      "source": [
        "# Moreover, we can do arithmetic with variables right inside the function:\n",
        "print('Weight in pounds: ', 2.2 * weight_kg)"
      ]
    },
    {
      "cell_type": "code",
      "execution_count": 17,
      "metadata": {
        "colab": {
          "base_uri": "https://localhost:8080/"
        },
        "id": "03azmmq33Q2U",
        "outputId": "7b4ec6c4-860a-4e03-9cf4-42f4d031a019"
      },
      "outputs": [
        {
          "name": "stdout",
          "output_type": "stream",
          "text": [
            "60.3\n"
          ]
        }
      ],
      "source": [
        "# The above command, however, did not change the value of weight_kg:\n",
        "print(weight_kg)"
      ]
    },
    {
      "cell_type": "code",
      "execution_count": 18,
      "metadata": {
        "colab": {
          "base_uri": "https://localhost:8080/"
        },
        "id": "8aU_YaQT3iQ7",
        "outputId": "94d26d36-b2e9-41f2-f7fe-981fbba50024"
      },
      "outputs": [
        {
          "name": "stdout",
          "output_type": "stream",
          "text": [
            "Weight in kg is now:  65.0\n"
          ]
        }
      ],
      "source": [
        "# Changing the variable value\n",
        "weight_kg = 65.0\n",
        "print(\"Weight in kg is now: \", weight_kg)"
      ]
    },
    {
      "cell_type": "code",
      "execution_count": 19,
      "metadata": {
        "colab": {
          "base_uri": "https://localhost:8080/"
        },
        "id": "XKu1-BFy3x2S",
        "outputId": "ea092d4d-66e7-4dc1-a7f9-b1794634aa5a"
      },
      "outputs": [
        {
          "name": "stdout",
          "output_type": "stream",
          "text": [
            "Hopper Grace\n",
            "Hopper blah\n"
          ]
        }
      ],
      "source": [
        "# Set up variables\n",
        "\n",
        "first, second = 'Grace', 'Hopper'\n",
        "third, fourth = second, first\n",
        "\n",
        "# Print contents\n",
        "print (third, fourth)\n",
        "first = 'blah'\n",
        "print (second, first)\n"
      ]
    }
  ],
  "metadata": {
    "colab": {
      "provenance": []
    },
    "kernelspec": {
      "display_name": "Python 3.9.13 ('jupyterbook')",
      "language": "python",
      "name": "python3"
    },
    "language_info": {
      "codemirror_mode": {
        "name": "ipython",
        "version": 3
      },
      "file_extension": ".py",
      "mimetype": "text/x-python",
      "name": "python",
      "nbconvert_exporter": "python",
      "pygments_lexer": "ipython3",
      "version": "3.9.13"
    },
    "vscode": {
      "interpreter": {
        "hash": "619bce7eea2fa910940b5d09a332111259144ebd629f3ad31b21414c58f7104b"
      }
    }
  },
  "nbformat": 4,
  "nbformat_minor": 0
}
