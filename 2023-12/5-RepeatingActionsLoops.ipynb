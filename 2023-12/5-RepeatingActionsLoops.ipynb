{
  "cells": [
    {
      "cell_type": "markdown",
      "metadata": {},
      "source": [
        "# SWD1a - Introduction to Python\n",
        "\n",
        "Material developed in December 13th 2023.\n",
        "\n",
        "## Topic 5: Repeating Actions with Loops"
      ]
    },
    {
      "cell_type": "code",
      "execution_count": 1,
      "metadata": {
        "id": "Rx231x6A2XGv"
      },
      "outputs": [],
      "source": [
        "# Create one list\n",
        "odds = [1, 3, 5, 7]"
      ]
    },
    {
      "cell_type": "code",
      "execution_count": 2,
      "metadata": {
        "colab": {
          "base_uri": "https://localhost:8080/"
        },
        "id": "dpovzvUw2dQd",
        "outputId": "179f6868-49b0-4216-a43a-716a78a2cca5"
      },
      "outputs": [
        {
          "name": "stdout",
          "output_type": "stream",
          "text": [
            "1\n",
            "3\n",
            "5\n",
            "7\n"
          ]
        }
      ],
      "source": [
        "# Repeat the same action to print every item\n",
        "print(odds[0])\n",
        "print(odds[1])\n",
        "print(odds[2])\n",
        "print(odds[3])"
      ]
    },
    {
      "cell_type": "code",
      "execution_count": 3,
      "metadata": {
        "colab": {
          "base_uri": "https://localhost:8080/"
        },
        "id": "UAmnVkEv35jB",
        "outputId": "2f6b90af-1e77-4ba8-c324-5f6a6cf278bf"
      },
      "outputs": [
        {
          "data": {
            "text/plain": [
              "[0, 1, 2, 3]"
            ]
          },
          "execution_count": 3,
          "metadata": {},
          "output_type": "execute_result"
        }
      ],
      "source": [
        "# testing the range function to use as indices generator\n",
        "list(range(4))"
      ]
    },
    {
      "cell_type": "code",
      "execution_count": 4,
      "metadata": {
        "colab": {
          "base_uri": "https://localhost:8080/"
        },
        "id": "-lj6Ao8Q3Vv8",
        "outputId": "e7c73935-8265-41e2-cf97-1e86e658db79"
      },
      "outputs": [
        {
          "name": "stdout",
          "output_type": "stream",
          "text": [
            "i value: 0\n",
            "odds value: 1\n",
            "-------\n",
            "i value: 1\n",
            "odds value: 3\n",
            "-------\n",
            "i value: 2\n",
            "odds value: 5\n",
            "-------\n",
            "i value: 3\n",
            "odds value: 7\n",
            "-------\n"
          ]
        }
      ],
      "source": [
        "# Use a for loop structure to repeat the action\n",
        "for i in range(4):\n",
        "    print(\"i value:\", i)\n",
        "    print(\"odds value:\", odds[i])\n",
        "    print(\"-------\")"
      ]
    },
    {
      "cell_type": "code",
      "execution_count": 5,
      "metadata": {
        "id": "MmUleu7S5Ay7"
      },
      "outputs": [
        {
          "name": "stdout",
          "output_type": "stream",
          "text": [
            "j value: 0\n",
            "j value: 1\n",
            "j value: 2\n",
            "j value: 3\n",
            "j value: 4\n",
            "j value: 5\n",
            "j value: 6\n",
            "j value: 7\n",
            "j value: 8\n",
            "j value: 9\n",
            "j value: 10\n",
            "j value: 11\n",
            "j value: 12\n",
            "j value: 13\n",
            "j value: 14\n",
            "j value: 15\n",
            "j value: 16\n",
            "j value: 17\n",
            "j value: 18\n",
            "j value: 19\n",
            "j value: 20\n",
            "j value: 21\n",
            "j value: 22\n",
            "j value: 23\n",
            "j value: 24\n",
            "j value: 25\n",
            "j value: 26\n",
            "j value: 27\n",
            "j value: 28\n",
            "j value: 29\n",
            "j value: 30\n",
            "j value: 31\n",
            "j value: 32\n",
            "j value: 33\n",
            "j value: 34\n",
            "j value: 35\n",
            "j value: 36\n",
            "j value: 37\n",
            "j value: 38\n",
            "j value: 39\n",
            "j value: 40\n",
            "j value: 41\n",
            "j value: 42\n",
            "j value: 43\n",
            "j value: 44\n",
            "j value: 45\n",
            "j value: 46\n",
            "j value: 47\n",
            "j value: 48\n",
            "j value: 49\n",
            "j value: 50\n",
            "j value: 51\n",
            "j value: 52\n",
            "j value: 53\n",
            "j value: 54\n",
            "j value: 55\n",
            "j value: 56\n",
            "j value: 57\n",
            "j value: 58\n",
            "j value: 59\n",
            "j value: 60\n",
            "j value: 61\n",
            "j value: 62\n",
            "j value: 63\n",
            "j value: 64\n",
            "j value: 65\n",
            "j value: 66\n",
            "j value: 67\n",
            "j value: 68\n",
            "j value: 69\n",
            "j value: 70\n",
            "j value: 71\n",
            "j value: 72\n",
            "j value: 73\n",
            "j value: 74\n",
            "j value: 75\n",
            "j value: 76\n",
            "j value: 77\n",
            "j value: 78\n",
            "j value: 79\n",
            "j value: 80\n",
            "j value: 81\n",
            "j value: 82\n",
            "j value: 83\n",
            "j value: 84\n",
            "j value: 85\n",
            "j value: 86\n",
            "j value: 87\n",
            "j value: 88\n",
            "j value: 89\n",
            "j value: 90\n",
            "j value: 91\n",
            "j value: 92\n",
            "j value: 93\n",
            "j value: 94\n",
            "j value: 95\n",
            "j value: 96\n",
            "j value: 97\n",
            "j value: 98\n",
            "j value: 99\n"
          ]
        }
      ],
      "source": [
        "# this works for larger repetitions too\n",
        "for j in range(100):\n",
        "    print(\"j value:\", j)"
      ]
    },
    {
      "cell_type": "code",
      "execution_count": 6,
      "metadata": {
        "colab": {
          "base_uri": "https://localhost:8080/"
        },
        "id": "2VLzo7R95mYB",
        "outputId": "d39d1566-652e-4336-c32b-339c0851f385"
      },
      "outputs": [
        {
          "name": "stdout",
          "output_type": "stream",
          "text": [
            "1\n",
            "3\n",
            "5\n",
            "7\n"
          ]
        }
      ],
      "source": [
        "# Using the loop in a different way\n",
        "for item in odds:\n",
        "    print(item)"
      ]
    }
  ],
  "metadata": {
    "colab": {
      "provenance": []
    },
    "kernelspec": {
      "display_name": "Python 3.9.13 ('base')",
      "language": "python",
      "name": "python3"
    },
    "language_info": {
      "codemirror_mode": {
        "name": "ipython",
        "version": 3
      },
      "file_extension": ".py",
      "mimetype": "text/x-python",
      "name": "python",
      "nbconvert_exporter": "python",
      "pygments_lexer": "ipython3",
      "version": "3.9.13"
    },
    "vscode": {
      "interpreter": {
        "hash": "1fe75babdc1202ac6874b4c1522ea6191ffacd755704d46ed06852d17e0c5ddb"
      }
    }
  },
  "nbformat": 4,
  "nbformat_minor": 0
}
