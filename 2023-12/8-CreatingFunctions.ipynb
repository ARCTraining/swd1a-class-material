{
  "cells": [
    {
      "cell_type": "markdown",
      "metadata": {},
      "source": [
        "# SWD1a - Introduction to Python\n",
        "\n",
        "Material developed in December 13th 2023.\n",
        "\n",
        "## Topic 8: Creating Functions"
      ]
    },
    {
      "cell_type": "code",
      "execution_count": 2,
      "metadata": {
        "id": "u1ZZP3mLnDOr"
      },
      "outputs": [],
      "source": [
        "# define one Fahrenheit temperature\n",
        "f_val = 99\n",
        "\n",
        "# convert to Celsius\n",
        "c_val = ((f_val - 32) *(5/9))"
      ]
    },
    {
      "cell_type": "code",
      "execution_count": 3,
      "metadata": {
        "colab": {
          "base_uri": "https://localhost:8080/"
        },
        "id": "EviSyjBsn-PX",
        "outputId": "4e6e3917-22de-4067-c5d9-3dd9dc4c5c39"
      },
      "outputs": [
        {
          "data": {
            "text/plain": [
              "37.22222222222222"
            ]
          },
          "execution_count": 3,
          "metadata": {},
          "output_type": "execute_result"
        }
      ],
      "source": [
        "c_val"
      ]
    },
    {
      "cell_type": "code",
      "execution_count": 4,
      "metadata": {
        "id": "kgMkbHgAoBsz"
      },
      "outputs": [],
      "source": [
        "# converting Fahrenheit to Celsius\n",
        "\n",
        "def fahr_to_cel(temp_in_fahr):\n",
        "    # function to convert temperature, given temp in Fahrenheit\n",
        "    cel_val = ((temp_in_fahr - 32) * (5/9))\n",
        "    return cel_val\n",
        "    # this works but I am not sure why?????"
      ]
    },
    {
      "cell_type": "code",
      "execution_count": 6,
      "metadata": {
        "id": "Dg0AmswxoIFw"
      },
      "outputs": [],
      "source": [
        "new_c_temp = fahr_to_cel(43)"
      ]
    },
    {
      "cell_type": "code",
      "execution_count": 7,
      "metadata": {
        "id": "GrMv-aQXoJZI"
      },
      "outputs": [
        {
          "data": {
            "text/plain": [
              "6.111111111111112"
            ]
          },
          "execution_count": 7,
          "metadata": {},
          "output_type": "execute_result"
        }
      ],
      "source": [
        "new_c_temp"
      ]
    },
    {
      "cell_type": "code",
      "execution_count": 8,
      "metadata": {
        "id": "7zFfO8hpoWLo"
      },
      "outputs": [],
      "source": [
        "# converting Kelvin to Celsius\n",
        "\n",
        "def c_to_k(temp_in_c):\n",
        "    k_val = (temp_in_c + 273.15)\n",
        "    return k_val"
      ]
    },
    {
      "cell_type": "code",
      "execution_count": 9,
      "metadata": {
        "id": "jFUDdWOOoabp"
      },
      "outputs": [],
      "source": [
        "kelvin_temp = c_to_k(100)"
      ]
    },
    {
      "cell_type": "code",
      "execution_count": 10,
      "metadata": {
        "id": "s6GYLWzur6VR"
      },
      "outputs": [
        {
          "data": {
            "text/plain": [
              "373.15"
            ]
          },
          "execution_count": 10,
          "metadata": {},
          "output_type": "execute_result"
        }
      ],
      "source": [
        "kelvin_temp"
      ]
    },
    {
      "cell_type": "code",
      "execution_count": 11,
      "metadata": {
        "id": "FlsR_zMHr77p"
      },
      "outputs": [],
      "source": [
        "import numpy as np\n",
        "\n",
        "test_data = np.array([1, 3, 6, 5, 8, 10, 2])\n",
        "\n",
        "def some_stats(data):\n",
        "    data_mean = np.mean(data)\n",
        "    data_max = np.amax(data)\n",
        "    data_min = np.amin(data)\n",
        "    return data_mean, data_max, data_min"
      ]
    },
    {
      "cell_type": "code",
      "execution_count": 12,
      "metadata": {
        "id": "m_ylxKpss7gz"
      },
      "outputs": [],
      "source": [
        "test_result = some_stats(test_data)"
      ]
    },
    {
      "cell_type": "code",
      "execution_count": 15,
      "metadata": {
        "colab": {
          "base_uri": "https://localhost:8080/"
        },
        "id": "7EdkloLjtDQX",
        "outputId": "0880d62a-bd41-457e-bec7-4a46069f2cef"
      },
      "outputs": [
        {
          "data": {
            "text/plain": [
              "(5.0, 10, 1)"
            ]
          },
          "execution_count": 15,
          "metadata": {},
          "output_type": "execute_result"
        }
      ],
      "source": [
        "test_result"
      ]
    },
    {
      "cell_type": "code",
      "execution_count": 16,
      "metadata": {
        "id": "F7BV7v3-tFAP"
      },
      "outputs": [],
      "source": [
        "test_mean, test_max, test_min = some_stats(test_data)"
      ]
    },
    {
      "cell_type": "code",
      "execution_count": 17,
      "metadata": {
        "colab": {
          "base_uri": "https://localhost:8080/"
        },
        "id": "8xeBHWt3tO8f",
        "outputId": "6861bfbf-d673-45de-9cbc-54e03b081476"
      },
      "outputs": [
        {
          "data": {
            "text/plain": [
              "1"
            ]
          },
          "execution_count": 17,
          "metadata": {},
          "output_type": "execute_result"
        }
      ],
      "source": [
        "test_min"
      ]
    },
    {
      "cell_type": "code",
      "execution_count": 22,
      "metadata": {
        "id": "W3eaZP-4tQmP"
      },
      "outputs": [],
      "source": [
        "def celsius_to_kelvin(temp_in_c=37):\n",
        "    k_val = (temp_in_c + 273.15)\n",
        "    return k_val"
      ]
    },
    {
      "cell_type": "code",
      "execution_count": 23,
      "metadata": {
        "colab": {
          "base_uri": "https://localhost:8080/"
        },
        "id": "BVdMPAcwuYd8",
        "outputId": "27a2907b-ec63-4c29-a70b-f7b682d0b311"
      },
      "outputs": [
        {
          "data": {
            "text/plain": [
              "310.15"
            ]
          },
          "execution_count": 23,
          "metadata": {},
          "output_type": "execute_result"
        }
      ],
      "source": [
        "celsius_to_kelvin()"
      ]
    },
    {
      "cell_type": "code",
      "execution_count": 24,
      "metadata": {
        "colab": {
          "base_uri": "https://localhost:8080/"
        },
        "id": "zdNjVNBbua5R",
        "outputId": "ca90504a-6f04-46eb-9c02-53e7cd1f1117"
      },
      "outputs": [
        {
          "data": {
            "text/plain": [
              "310.15"
            ]
          },
          "execution_count": 24,
          "metadata": {},
          "output_type": "execute_result"
        }
      ],
      "source": [
        "celsius_to_kelvin(37)"
      ]
    },
    {
      "cell_type": "code",
      "execution_count": 25,
      "metadata": {
        "colab": {
          "base_uri": "https://localhost:8080/"
        },
        "id": "mIWvkmMuueBA",
        "outputId": "4fc4464a-8a48-4386-df52-d737f3e48da8"
      },
      "outputs": [
        {
          "data": {
            "text/plain": [
              "330.15"
            ]
          },
          "execution_count": 25,
          "metadata": {},
          "output_type": "execute_result"
        }
      ],
      "source": [
        "celsius_to_kelvin(57)"
      ]
    },
    {
      "cell_type": "code",
      "execution_count": null,
      "metadata": {
        "id": "6H6z-2Olugax"
      },
      "outputs": [],
      "source": [
        "def some_maths(a, b):\n",
        "    sum = a + b\n",
        "    mean = np.mean(a,b)\n",
        "    return sum, mean\n"
      ]
    }
  ],
  "metadata": {
    "colab": {
      "provenance": []
    },
    "kernelspec": {
      "display_name": "Python 3.9.13 ('base')",
      "language": "python",
      "name": "python3"
    },
    "language_info": {
      "codemirror_mode": {
        "name": "ipython",
        "version": 3
      },
      "file_extension": ".py",
      "mimetype": "text/x-python",
      "name": "python",
      "nbconvert_exporter": "python",
      "pygments_lexer": "ipython3",
      "version": "3.9.13"
    },
    "vscode": {
      "interpreter": {
        "hash": "1fe75babdc1202ac6874b4c1522ea6191ffacd755704d46ed06852d17e0c5ddb"
      }
    }
  },
  "nbformat": 4,
  "nbformat_minor": 0
}
