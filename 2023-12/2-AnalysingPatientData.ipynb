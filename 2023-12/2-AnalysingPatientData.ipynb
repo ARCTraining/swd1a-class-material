{
  "cells": [
    {
      "cell_type": "markdown",
      "metadata": {},
      "source": [
        "# SWD1a - Introduction to Python\n",
        "\n",
        "Material developed in December 06th 2023.\n",
        "\n",
        "## Topic 2: Analysing Patient Data"
      ]
    },
    {
      "cell_type": "markdown",
      "metadata": {},
      "source": [
        "### Download and Unzip the Data\n",
        "\n",
        "- Data is available at: https://swcarpentry.github.io/python-novice-inflammation/data/python-novice-inflammation-data.zip\n",
        "- We are going to download and unzip the data files using command line.\n",
        "- The data is going to be stored in a folder called `/contents/swc-python` (This is a colab folder location).\n",
        "  - if you are using the command bellow, the folder will be created automatically\n",
        "  - if not, please create the folder and move the data to the right place\n"
      ]
    },
    {
      "cell_type": "code",
      "execution_count": 13,
      "metadata": {
        "colab": {
          "base_uri": "https://localhost:8080/"
        },
        "id": "8TB5L5nf7E_H",
        "outputId": "ff907b27-feb7-4408-c761-e1fd7ab1478a"
      },
      "outputs": [
        {
          "name": "stdout",
          "output_type": "stream",
          "text": [
            "--2023-12-15 12:03:36--  https://swcarpentry.github.io/python-novice-inflammation/data/python-novice-inflammation-data.zip\n",
            "Resolving swcarpentry.github.io (swcarpentry.github.io)... 185.199.110.153, 185.199.108.153, 185.199.109.153, ...\n",
            "Connecting to swcarpentry.github.io (swcarpentry.github.io)|185.199.110.153|:443... connected.\n",
            "HTTP request sent, awaiting response... 200 OK\n",
            "Length: 22554 (22K) [application/zip]\n",
            "Saving to: ‘swc-python/python-novice-inflammation-data.zip’\n",
            "\n",
            "python-novice-infla 100%[===================>]  22.03K  --.-KB/s    in 0.002s  \n",
            "\n",
            "2023-12-15 12:03:36 (10.4 MB/s) - ‘swc-python/python-novice-inflammation-data.zip’ saved [22554/22554]\n",
            "\n"
          ]
        }
      ],
      "source": [
        "# Download the data file and store in the swc-python folder\n",
        "!wget -P swc-python https://swcarpentry.github.io/python-novice-inflammation/data/python-novice-inflammation-data.zip"
      ]
    },
    {
      "cell_type": "code",
      "execution_count": 17,
      "metadata": {
        "colab": {
          "base_uri": "https://localhost:8080/"
        },
        "id": "dgW124px7427",
        "outputId": "c9d143a2-1070-4324-d899-813b2d9c0b43"
      },
      "outputs": [
        {
          "name": "stdout",
          "output_type": "stream",
          "text": [
            "Archive:  content/swc-python/python-novice-inflammation-data.zip\n",
            "   creating: content/swc-python/data/\n",
            "  inflating: content/swc-python/data/inflammation-01.csv  \n",
            "  inflating: content/swc-python/data/inflammation-02.csv  \n",
            "  inflating: content/swc-python/data/inflammation-03.csv  \n",
            "  inflating: content/swc-python/data/inflammation-04.csv  \n",
            "  inflating: content/swc-python/data/inflammation-05.csv  \n",
            "  inflating: content/swc-python/data/inflammation-06.csv  \n",
            "  inflating: content/swc-python/data/inflammation-07.csv  \n",
            "  inflating: content/swc-python/data/inflammation-08.csv  \n",
            "  inflating: content/swc-python/data/inflammation-09.csv  \n",
            "  inflating: content/swc-python/data/inflammation-10.csv  \n",
            "  inflating: content/swc-python/data/inflammation-11.csv  \n",
            "  inflating: content/swc-python/data/inflammation-12.csv  \n",
            " extracting: content/swc-python/data/small-01.csv  \n",
            " extracting: content/swc-python/data/small-02.csv  \n",
            " extracting: content/swc-python/data/small-03.csv  \n"
          ]
        }
      ],
      "source": [
        "# Extract .zip files inside the folder swc-python/\n",
        "!unzip /content/swc-python/python-novice-inflammation-data.zip -d /content/swc-python/"
      ]
    },
    {
      "cell_type": "markdown",
      "metadata": {},
      "source": [
        "### Loading data into Python\n",
        "\n",
        "To begin processing the clinical trial inflammation data, we need to load it into Python. We can do that using a library called NumPy, which stands for Numerical Python."
      ]
    },
    {
      "cell_type": "code",
      "execution_count": 18,
      "metadata": {
        "id": "5MovjbAj6s06"
      },
      "outputs": [],
      "source": [
        "# Load the numpy library\n",
        "import numpy"
      ]
    },
    {
      "cell_type": "code",
      "execution_count": 20,
      "metadata": {
        "colab": {
          "base_uri": "https://localhost:8080/"
        },
        "id": "tifo8e419K4n",
        "outputId": "d54859f6-9fed-4f0b-f31b-e8a6e71d6523"
      },
      "outputs": [
        {
          "data": {
            "text/plain": [
              "array([[0., 0., 1., ..., 3., 0., 0.],\n",
              "       [0., 1., 2., ..., 1., 0., 1.],\n",
              "       [0., 1., 1., ..., 2., 1., 1.],\n",
              "       ...,\n",
              "       [0., 1., 1., ..., 1., 1., 1.],\n",
              "       [0., 0., 0., ..., 0., 2., 0.],\n",
              "       [0., 0., 1., ..., 1., 1., 0.]])"
            ]
          },
          "execution_count": 20,
          "metadata": {},
          "output_type": "execute_result"
        }
      ],
      "source": [
        "# Ask the library to read our data file for us\n",
        "numpy.loadtxt(fname='/content/swc-python/data/inflammation-01.csv', delimiter=',')"
      ]
    },
    {
      "cell_type": "code",
      "execution_count": 21,
      "metadata": {
        "id": "75wHVkFE_lQc"
      },
      "outputs": [],
      "source": [
        "# Our call to numpy.loadtxt read our file but didn’t save the data in memory.\n",
        "# To do that, we need to assign the array to a variable. \n",
        "data = numpy.loadtxt(fname='/content/swc-python/data/inflammation-01.csv', delimiter=',')"
      ]
    },
    {
      "cell_type": "code",
      "execution_count": 22,
      "metadata": {
        "colab": {
          "base_uri": "https://localhost:8080/"
        },
        "id": "qr_p2oRN_prN",
        "outputId": "0118445c-b752-4a99-bcf2-04777252e646"
      },
      "outputs": [
        {
          "name": "stdout",
          "output_type": "stream",
          "text": [
            "[[0. 0. 1. ... 3. 0. 0.]\n",
            " [0. 1. 2. ... 1. 0. 1.]\n",
            " [0. 1. 1. ... 2. 1. 1.]\n",
            " ...\n",
            " [0. 1. 1. ... 1. 1. 1.]\n",
            " [0. 0. 0. ... 0. 2. 0.]\n",
            " [0. 0. 1. ... 1. 1. 0.]]\n"
          ]
        }
      ],
      "source": [
        "print(data)"
      ]
    },
    {
      "cell_type": "code",
      "execution_count": 23,
      "metadata": {
        "colab": {
          "base_uri": "https://localhost:8080/"
        },
        "id": "9nb_6bBJ_2HK",
        "outputId": "def637dc-364d-4c89-c427-b544685d6c4c"
      },
      "outputs": [
        {
          "name": "stdout",
          "output_type": "stream",
          "text": [
            "<class 'numpy.ndarray'>\n"
          ]
        }
      ],
      "source": [
        "print(type(data))"
      ]
    },
    {
      "cell_type": "code",
      "execution_count": 24,
      "metadata": {
        "colab": {
          "base_uri": "https://localhost:8080/"
        },
        "id": "PLK2f1W7_56C",
        "outputId": "af40f22c-85d7-41fa-e998-1ed7ab4e2504"
      },
      "outputs": [
        {
          "name": "stdout",
          "output_type": "stream",
          "text": [
            "float64\n",
            "(60, 40)\n",
            "firstr value in data:  0.0\n",
            "firstr value in data:  16.0\n"
          ]
        }
      ],
      "source": [
        "# Get an overview of the data\n",
        "\n",
        "print(data.dtype) # see the data type\n",
        "print(data.shape) # see how many rows/columns your data have\n",
        "print('firstr value in data: ', data[0,0]) # Check first number in your dataset\n",
        "print('firstr value in data: ', data[29,19]) # Check middle number in your dataset"
      ]
    },
    {
      "cell_type": "markdown",
      "metadata": {},
      "source": [
        "### Slicing data"
      ]
    },
    {
      "cell_type": "code",
      "execution_count": 25,
      "metadata": {
        "colab": {
          "base_uri": "https://localhost:8080/"
        },
        "id": "Biy6DzeHChFq",
        "outputId": "c982a676-fc8c-462c-fca5-f80ec694a020"
      },
      "outputs": [
        {
          "name": "stdout",
          "output_type": "stream",
          "text": [
            "[[0. 0. 1. 3. 1. 2. 4. 7. 8. 3.]\n",
            " [0. 1. 2. 1. 2. 1. 3. 2. 2. 6.]\n",
            " [0. 1. 1. 3. 3. 2. 6. 2. 5. 9.]\n",
            " [0. 0. 2. 0. 4. 2. 2. 1. 6. 7.]]\n"
          ]
        }
      ],
      "source": [
        "print(data[0:4, 0:10])"
      ]
    },
    {
      "cell_type": "code",
      "execution_count": 26,
      "metadata": {
        "colab": {
          "base_uri": "https://localhost:8080/",
          "height": 178
        },
        "id": "lGtRg7ohDcLB",
        "outputId": "166cfb9a-ec48-4806-e5ec-0441bfcb4050"
      },
      "outputs": [
        {
          "ename": "IndexError",
          "evalue": "index 60 is out of bounds for axis 0 with size 60",
          "output_type": "error",
          "traceback": [
            "\u001b[0;31m---------------------------------------------------------------------------\u001b[0m",
            "\u001b[0;31mIndexError\u001b[0m                                Traceback (most recent call last)",
            "Cell \u001b[0;32mIn [26], line 1\u001b[0m\n\u001b[0;32m----> 1\u001b[0m \u001b[39mprint\u001b[39m(data[\u001b[39m60\u001b[39;49m,\u001b[39m0\u001b[39;49m])\n",
            "\u001b[0;31mIndexError\u001b[0m: index 60 is out of bounds for axis 0 with size 60"
          ]
        }
      ],
      "source": [
        "print(data[60,0])"
      ]
    },
    {
      "cell_type": "code",
      "execution_count": 27,
      "metadata": {
        "colab": {
          "base_uri": "https://localhost:8080/"
        },
        "id": "A47bXfNLC9Fl",
        "outputId": "6e5716fd-1763-480e-897b-9d5253ffe251"
      },
      "outputs": [
        {
          "name": "stdout",
          "output_type": "stream",
          "text": [
            "[[0. 0. 1. 2. 2. 4. 2. 1. 6. 4.]\n",
            " [0. 0. 2. 2. 4. 2. 2. 5. 5. 8.]\n",
            " [0. 0. 1. 2. 3. 1. 2. 3. 5. 3.]\n",
            " [0. 0. 0. 3. 1. 5. 6. 5. 5. 8.]\n",
            " [0. 1. 1. 2. 1. 3. 5. 3. 5. 8.]]\n"
          ]
        }
      ],
      "source": [
        "print(data[5:10, 0:10])"
      ]
    },
    {
      "cell_type": "code",
      "execution_count": 28,
      "metadata": {
        "colab": {
          "base_uri": "https://localhost:8080/"
        },
        "id": "G_2eykDODz8c",
        "outputId": "796d1236-6c15-40e8-8921-55ebe9886885"
      },
      "outputs": [
        {
          "name": "stdout",
          "output_type": "stream",
          "text": [
            "small is: [[2. 3. 0. 0.]\n",
            " [1. 1. 0. 1.]\n",
            " [2. 2. 1. 1.]]\n"
          ]
        }
      ],
      "source": [
        "small = data[:3, 36:]\n",
        "print('small is:', small)"
      ]
    },
    {
      "cell_type": "markdown",
      "metadata": {},
      "source": [
        "### Analysing data"
      ]
    },
    {
      "cell_type": "code",
      "execution_count": 29,
      "metadata": {
        "colab": {
          "base_uri": "https://localhost:8080/"
        },
        "id": "Y1v0UdMXEA-x",
        "outputId": "ec73fbcc-97a5-45f5-977c-43b6cb0f5e99"
      },
      "outputs": [
        {
          "name": "stdout",
          "output_type": "stream",
          "text": [
            "6.14875\n"
          ]
        }
      ],
      "source": [
        "# Compute data’s mean value using NumPy\n",
        "print(numpy.mean(data))"
      ]
    },
    {
      "cell_type": "code",
      "execution_count": 30,
      "metadata": {
        "colab": {
          "base_uri": "https://localhost:8080/"
        },
        "id": "AgQtxEd3E5nc",
        "outputId": "fb16c719-e1ba-4d39-c0af-9b3a02a3cb20"
      },
      "outputs": [
        {
          "name": "stdout",
          "output_type": "stream",
          "text": [
            "Max:  20.0\n",
            "Min:  0.0\n",
            "Std Dev:  4.613833197118566\n"
          ]
        }
      ],
      "source": [
        "# other NumPy functions to get some descriptive values about the dataset \n",
        "maxval, minval, stdval = numpy.amax(data), numpy.amin(data), numpy.std(data)\n",
        "\n",
        "print('Max: ', maxval)\n",
        "print('Min: ', minval)\n",
        "print('Std Dev: ', stdval)"
      ]
    },
    {
      "cell_type": "code",
      "execution_count": 31,
      "metadata": {
        "colab": {
          "base_uri": "https://localhost:8080/"
        },
        "id": "eSh204VLEfHl",
        "outputId": "0676b68c-42ae-472a-e276-f4cd2df19693"
      },
      "outputs": [
        {
          "name": "stdout",
          "output_type": "stream",
          "text": [
            "Max Inflamation for patient 0:  18.0\n"
          ]
        }
      ],
      "source": [
        "# Looking one patient \n",
        "patient_0 = data[0, :]\n",
        "print('Max Inflamation for patient 0: ', numpy.amax(patient_0))"
      ]
    },
    {
      "cell_type": "code",
      "execution_count": 32,
      "metadata": {
        "colab": {
          "base_uri": "https://localhost:8080/"
        },
        "id": "RFmd6e0DGXjA",
        "outputId": "b406cd30-4daf-451e-e4c5-7a6bf030f974"
      },
      "outputs": [
        {
          "name": "stdout",
          "output_type": "stream",
          "text": [
            "Max Inflamation for patient 2:  19.0\n"
          ]
        }
      ],
      "source": [
        "# Looking another patient \n",
        "print('Max Inflamation for patient 2: ', numpy.amax(data[2, :]))"
      ]
    },
    {
      "cell_type": "code",
      "execution_count": 33,
      "metadata": {
        "colab": {
          "base_uri": "https://localhost:8080/"
        },
        "id": "rFRYjijoHEch",
        "outputId": "3f4083e8-2f44-45a8-fdeb-59cf91ce68e9"
      },
      "outputs": [
        {
          "name": "stdout",
          "output_type": "stream",
          "text": [
            "[ 0.          0.45        1.11666667  1.75        2.43333333  3.15\n",
            "  3.8         3.88333333  5.23333333  5.51666667  5.95        5.9\n",
            "  8.35        7.73333333  8.36666667  9.5         9.58333333 10.63333333\n",
            " 11.56666667 12.35       13.25       11.96666667 11.03333333 10.16666667\n",
            " 10.          8.66666667  9.15        7.25        7.33333333  6.58333333\n",
            "  6.06666667  5.95        5.11666667  3.6         3.3         3.56666667\n",
            "  2.48333333  1.5         1.13333333  0.56666667]\n"
          ]
        }
      ],
      "source": [
        "# average inflammation per day for all patients\n",
        "print(numpy.mean(data,axis=0))"
      ]
    },
    {
      "cell_type": "code",
      "execution_count": 34,
      "metadata": {
        "colab": {
          "base_uri": "https://localhost:8080/"
        },
        "id": "QR6sU_mPHKdT",
        "outputId": "1bd322fb-25ac-43a8-e2a4-91e14faab754"
      },
      "outputs": [
        {
          "name": "stdout",
          "output_type": "stream",
          "text": [
            "(40,)\n"
          ]
        }
      ],
      "source": [
        "# Check shape to help understand the axis operation - 40 is the number of days\n",
        "print(numpy.mean(data,axis=0).shape)"
      ]
    },
    {
      "cell_type": "code",
      "execution_count": 35,
      "metadata": {
        "colab": {
          "base_uri": "https://localhost:8080/"
        },
        "id": "Me-ULBc-GtGv",
        "outputId": "6c396077-1480-4c62-a1b1-4908497bf2f5"
      },
      "outputs": [
        {
          "name": "stdout",
          "output_type": "stream",
          "text": [
            "[18. 18. 19. 17. 17. 18. 17. 20. 17. 18. 18. 18. 17. 16. 17. 18. 19. 19.\n",
            " 17. 19. 19. 16. 17. 15. 17. 17. 18. 17. 20. 17. 16. 19. 15. 15. 19. 17.\n",
            " 16. 17. 19. 16. 18. 19. 16. 19. 18. 16. 19. 15. 16. 18. 14. 20. 17. 15.\n",
            " 17. 16. 17. 19. 18. 18.]\n"
          ]
        }
      ],
      "source": [
        "# max inflammation per patient across all days\n",
        "print(numpy.max(data, axis=1))"
      ]
    },
    {
      "cell_type": "code",
      "execution_count": 39,
      "metadata": {},
      "outputs": [
        {
          "name": "stdout",
          "output_type": "stream",
          "text": [
            "(60,)\n"
          ]
        }
      ],
      "source": [
        "# Check shape to help understand the axis operation - 60 is the number of patients\n",
        "print(numpy.max(data, axis=1).shape)"
      ]
    },
    {
      "cell_type": "markdown",
      "metadata": {},
      "source": [
        "### SLICING STRINGS"
      ]
    },
    {
      "cell_type": "code",
      "execution_count": null,
      "metadata": {
        "colab": {
          "base_uri": "https://localhost:8080/"
        },
        "id": "B4f1KO-RIU1L",
        "outputId": "bcd7148a-1955-42c2-b839-b40b57429158"
      },
      "outputs": [],
      "source": [
        "element = 'oxygen'\n",
        "print('first three characters:', element[0:3])\n",
        "print('last three characters:', element[3:6])"
      ]
    }
  ],
  "metadata": {
    "colab": {
      "provenance": []
    },
    "kernelspec": {
      "display_name": "Python 3.9.13 ('jupyterbook')",
      "language": "python",
      "name": "python3"
    },
    "language_info": {
      "codemirror_mode": {
        "name": "ipython",
        "version": 3
      },
      "file_extension": ".py",
      "mimetype": "text/x-python",
      "name": "python",
      "nbconvert_exporter": "python",
      "pygments_lexer": "ipython3",
      "version": "3.9.13"
    },
    "vscode": {
      "interpreter": {
        "hash": "619bce7eea2fa910940b5d09a332111259144ebd629f3ad31b21414c58f7104b"
      }
    }
  },
  "nbformat": 4,
  "nbformat_minor": 0
}
