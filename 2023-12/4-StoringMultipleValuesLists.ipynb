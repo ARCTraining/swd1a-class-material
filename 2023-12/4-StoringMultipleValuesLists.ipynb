{
  "cells": [
    {
      "cell_type": "markdown",
      "metadata": {},
      "source": [
        "# SWD1a - Introduction to Python\n",
        "\n",
        "Material developed in December 06th 2023.\n",
        "\n",
        "## Topic 4: Storing Multiple Values in Lists"
      ]
    },
    {
      "cell_type": "code",
      "execution_count": 1,
      "metadata": {
        "id": "6Iyx19ZqtnNC"
      },
      "outputs": [],
      "source": [
        "# Create a list with odd numbers\n",
        "odds = [1, 3, 5, 7]"
      ]
    },
    {
      "cell_type": "code",
      "execution_count": 2,
      "metadata": {
        "colab": {
          "base_uri": "https://localhost:8080/"
        },
        "id": "pmCemQ3Etwkl",
        "outputId": "02d6c3df-0977-4d99-f368-6f8f41bfbe72"
      },
      "outputs": [
        {
          "data": {
            "text/plain": [
              "[1, 3, 5, 7]"
            ]
          },
          "execution_count": 2,
          "metadata": {},
          "output_type": "execute_result"
        }
      ],
      "source": [
        "# display the list\n",
        "odds"
      ]
    },
    {
      "cell_type": "code",
      "execution_count": 3,
      "metadata": {
        "colab": {
          "base_uri": "https://localhost:8080/"
        },
        "id": "IoCkTyCCt3_V",
        "outputId": "1e56a69c-e751-471c-e429-c7d26be044a5"
      },
      "outputs": [
        {
          "name": "stdout",
          "output_type": "stream",
          "text": [
            "first element 1\n",
            "second element 3\n",
            "third element 5\n",
            "last element 7\n"
          ]
        }
      ],
      "source": [
        "# We can access elements of a list using indices\n",
        "print(\"first element\", odds[0])\n",
        "print(\"second element\", odds[1])\n",
        "print(\"third element\", odds[2])\n",
        "print(\"last element\", odds[-1])"
      ]
    },
    {
      "cell_type": "code",
      "execution_count": 4,
      "metadata": {
        "colab": {
          "base_uri": "https://localhost:8080/"
        },
        "id": "XOkcboV7uth6",
        "outputId": "02208de5-1563-4dbc-aeb7-b6607f8a1273"
      },
      "outputs": [
        {
          "name": "stdout",
          "output_type": "stream",
          "text": [
            "list size =  4\n"
          ]
        }
      ],
      "source": [
        "print(\"list size = \", len(odds))"
      ]
    },
    {
      "cell_type": "code",
      "execution_count": 5,
      "metadata": {
        "id": "1XoobjtYu78J"
      },
      "outputs": [],
      "source": [
        "# Create a new list with a typo\n",
        "names = [\"Curie\", \"Darwing\", 'Turing']"
      ]
    },
    {
      "cell_type": "code",
      "execution_count": 6,
      "metadata": {
        "colab": {
          "base_uri": "https://localhost:8080/"
        },
        "id": "Vo0-zj9RvVeZ",
        "outputId": "6a93f28c-4931-46f8-fc91-4ccc7c66db4c"
      },
      "outputs": [
        {
          "data": {
            "text/plain": [
              "['Curie', 'Darwing', 'Turing']"
            ]
          },
          "execution_count": 6,
          "metadata": {},
          "output_type": "execute_result"
        }
      ],
      "source": [
        "# display the list\n",
        "names"
      ]
    },
    {
      "cell_type": "code",
      "execution_count": 7,
      "metadata": {
        "id": "eyD4xwSCvc3w"
      },
      "outputs": [],
      "source": [
        "# Lists are mutable, so you can change one value\n",
        "names[1] = \"darwin\""
      ]
    },
    {
      "cell_type": "code",
      "execution_count": 8,
      "metadata": {
        "colab": {
          "base_uri": "https://localhost:8080/"
        },
        "id": "CznPmaKzvoHv",
        "outputId": "b5784230-4198-4929-cc6c-d8f0c07be1d8"
      },
      "outputs": [
        {
          "data": {
            "text/plain": [
              "['Curie', 'darwin', 'Turing']"
            ]
          },
          "execution_count": 8,
          "metadata": {},
          "output_type": "execute_result"
        }
      ],
      "source": [
        "# display the list - Note the new value\n",
        "names"
      ]
    },
    {
      "cell_type": "code",
      "execution_count": 10,
      "metadata": {
        "colab": {
          "base_uri": "https://localhost:8080/",
          "height": 35
        },
        "id": "2eQ-X5-AvwiP",
        "outputId": "960b4fe5-7a6f-4abb-c7f6-249b24f41441"
      },
      "outputs": [
        {
          "name": "stdout",
          "output_type": "stream",
          "text": [
            "darwin\n",
            "d\n"
          ]
        }
      ],
      "source": [
        "# Store one item in a variable\n",
        "name = names[1]\n",
        "\n",
        "print(name)\n",
        "\n",
        "# you can access the letters in a string\n",
        "print(name[0])"
      ]
    },
    {
      "cell_type": "code",
      "execution_count": 11,
      "metadata": {
        "colab": {
          "base_uri": "https://localhost:8080/",
          "height": 178
        },
        "id": "0yzP2uqDwCCm",
        "outputId": "0888547d-ebe1-4443-adcf-afb791a9a7fd"
      },
      "outputs": [
        {
          "ename": "TypeError",
          "evalue": "'str' object does not support item assignment",
          "output_type": "error",
          "traceback": [
            "\u001b[0;31m---------------------------------------------------------------------------\u001b[0m",
            "\u001b[0;31mTypeError\u001b[0m                                 Traceback (most recent call last)",
            "\u001b[0;32m/tmp/ipykernel_37834/3029676460.py\u001b[0m in \u001b[0;36m<module>\u001b[0;34m\u001b[0m\n\u001b[0;32m----> 1\u001b[0;31m \u001b[0mname\u001b[0m\u001b[0;34m[\u001b[0m\u001b[0;36m0\u001b[0m\u001b[0;34m]\u001b[0m \u001b[0;34m=\u001b[0m \u001b[0;34m'D'\u001b[0m\u001b[0;34m\u001b[0m\u001b[0;34m\u001b[0m\u001b[0m\n\u001b[0m",
            "\u001b[0;31mTypeError\u001b[0m: 'str' object does not support item assignment"
          ]
        }
      ],
      "source": [
        "# But string is immutable - so you can not change just a part of the string\n",
        "name[0] = 'D'  # try this will raise an error!"
      ]
    },
    {
      "cell_type": "markdown",
      "metadata": {
        "id": "9ms4qb3XwY2y"
      },
      "source": [
        "- lists are mutable\n",
        "- strings, integer, float = immutable"
      ]
    },
    {
      "cell_type": "code",
      "execution_count": 12,
      "metadata": {
        "colab": {
          "base_uri": "https://localhost:8080/",
          "height": 35
        },
        "id": "V-1fBRYmwkws",
        "outputId": "a965b5c3-fd15-4b09-9e5b-0c905757d4af"
      },
      "outputs": [
        {
          "data": {
            "text/plain": [
              "'Darwin'"
            ]
          },
          "execution_count": 12,
          "metadata": {},
          "output_type": "execute_result"
        }
      ],
      "source": [
        "name = 'Darwin' # reassign the variable value\n",
        "name"
      ]
    },
    {
      "cell_type": "markdown",
      "metadata": {
        "id": "JZpE2mMUxfWE"
      },
      "source": [
        "### Test memory allocation"
      ]
    },
    {
      "cell_type": "code",
      "execution_count": 24,
      "metadata": {
        "colab": {
          "base_uri": "https://localhost:8080/"
        },
        "id": "tvffTpwjxhv6",
        "outputId": "c6039080-c81a-4202-c475-0e7baa02fa91"
      },
      "outputs": [
        {
          "name": "stdout",
          "output_type": "stream",
          "text": [
            "initial lists:\n",
            "mild ['peppers', 'onions', 'tomatoes']\n",
            "hot ['peppers', 'onions', 'tomatoes']\n",
            "\n",
            "updated lists\n",
            "hot ['hot peppers', 'cilantro', 'tomatoes']\n",
            "mild ['hot peppers', 'cilantro', 'tomatoes']\n"
          ]
        }
      ],
      "source": [
        "# Create new list\n",
        "mild_salsa = [\"peppers\", \"onions\", \"tomatoes\"]\n",
        "\n",
        "# Create a second list as a copy from the first list\n",
        "hot_salsa = mild_salsa#.copy()\n",
        "\n",
        "# Print both lists\n",
        "print(\"initial lists:\")\n",
        "print(\"mild\", mild_salsa)\n",
        "print(\"hot\", hot_salsa)\n",
        "\n",
        "# Update one of the values in one of the lists\n",
        "hot_salsa[0] = \"hot peppers\"\n",
        "\n",
        "# Update another values in another list\n",
        "mild_salsa[1] = \"cilantro\"\n",
        "\n",
        "# Print both lists\n",
        "print(\"\\nupdated lists\") # \"\\n introduces a line break\"\n",
        "print(\"hot\", hot_salsa)\n",
        "print(\"mild\", mild_salsa)"
      ]
    },
    {
      "cell_type": "markdown",
      "metadata": {},
      "source": [
        "We changed one list, but both were affected.\n",
        "\n",
        "This happens because lists are mutable, so the way they are stored is pointing to one \"memory local\".\n",
        "\n",
        "When we create the second list, instead allocate the information in a different place, we create a reference that point to the same place we had before."
      ]
    },
    {
      "cell_type": "code",
      "execution_count": 23,
      "metadata": {
        "colab": {
          "base_uri": "https://localhost:8080/"
        },
        "id": "P9eRDzmtyWMO",
        "outputId": "83d1abcc-995d-45ba-87d5-6e05a74c0471"
      },
      "outputs": [
        {
          "name": "stdout",
          "output_type": "stream",
          "text": [
            "initial lists:\n",
            "mild ['peppers', 'onions', 'tomatoes']\n",
            "hot ['peppers', 'onions', 'tomatoes']\n",
            "\n",
            "updated lists\n",
            "hot ['hot peppers', 'onions', 'tomatoes']\n",
            "mild ['peppers', 'cilantro', 'tomatoes']\n"
          ]
        }
      ],
      "source": [
        "# Create new list\n",
        "mild_salsa = [\"peppers\", \"onions\", \"tomatoes\"]\n",
        "\n",
        "# Create a second list using the copy method\n",
        "hot_salsa = mild_salsa.copy()\n",
        "\n",
        "# Print both lists\n",
        "print(\"initial lists:\")\n",
        "print(\"mild\", mild_salsa)\n",
        "print(\"hot\", hot_salsa)\n",
        "\n",
        "# Update one of the values in one of the lists\n",
        "hot_salsa[0] = \"hot peppers\"\n",
        "\n",
        "# Update another values in another list\n",
        "mild_salsa[1] = \"cilantro\"\n",
        "\n",
        "# Print both lists\n",
        "print(\"\\nupdated lists\") # \"\\n introduces a line break\"\n",
        "print(\"hot\", hot_salsa)\n",
        "print(\"mild\", mild_salsa)"
      ]
    },
    {
      "cell_type": "markdown",
      "metadata": {
        "id": "haIe2xCPrvrb"
      },
      "source": [
        "## Nested lists\n",
        "\n"
      ]
    },
    {
      "cell_type": "code",
      "execution_count": 26,
      "metadata": {
        "id": "rbQRD5ieryAS"
      },
      "outputs": [],
      "source": [
        "# Create a list of lists\n",
        "veg = [[\"lettuce\", \"zucchini\"], # green\n",
        "       [\"tomatoes\", \"peppers\", \"betroot\"], #red\n",
        "       [\"yellow peppers\", \"carrot\"]] # yellow"
      ]
    },
    {
      "cell_type": "code",
      "execution_count": 27,
      "metadata": {
        "colab": {
          "base_uri": "https://localhost:8080/"
        },
        "id": "Cy0n0vh3tlcG",
        "outputId": "22cfb46b-f9cf-493b-913c-42054b760454"
      },
      "outputs": [
        {
          "name": "stdout",
          "output_type": "stream",
          "text": [
            "print one green veg: zucchini\n",
            "print one yellow veg: yellow peppers\n",
            "print two red veg: peppers betroot\n",
            "print two red veg: ['tomatoes', 'peppers']\n"
          ]
        }
      ],
      "source": [
        "# Use two indices to localise the desired item\n",
        "print(\"print one green veg:\", veg[0][1])\n",
        "print(\"print one yellow veg:\", veg[2][0])\n",
        "print(\"print two red veg:\", veg[1][1], veg[1][2])\n",
        "print(\"print two red veg:\", veg[1][0:2])"
      ]
    },
    {
      "cell_type": "markdown",
      "metadata": {
        "id": "_-OvznOTv04f"
      },
      "source": [
        "### Extra: Difference - array and list"
      ]
    },
    {
      "cell_type": "code",
      "execution_count": 29,
      "metadata": {
        "colab": {
          "base_uri": "https://localhost:8080/"
        },
        "id": "vGpMkZP9v4Pn",
        "outputId": "dfef7d77-ec52-41d7-96bf-a8b5a4608a72"
      },
      "outputs": [
        {
          "data": {
            "text/plain": [
              "[35, 1.64]"
            ]
          },
          "execution_count": 29,
          "metadata": {},
          "output_type": "execute_result"
        }
      ],
      "source": [
        "# Create one list\n",
        "listA = [35, 1.64]\n",
        "listA"
      ]
    },
    {
      "cell_type": "code",
      "execution_count": 30,
      "metadata": {
        "colab": {
          "base_uri": "https://localhost:8080/"
        },
        "id": "te_CyR_JwLwl",
        "outputId": "7f6bc84f-e455-4d58-ac1e-6450a25c9e07"
      },
      "outputs": [
        {
          "data": {
            "text/plain": [
              "array([35.  ,  1.64])"
            ]
          },
          "execution_count": 30,
          "metadata": {},
          "output_type": "execute_result"
        }
      ],
      "source": [
        "import numpy\n",
        "\n",
        "# create one numpy array\n",
        "arrayA = numpy.array([35, 1.64])\n",
        "arrayA"
      ]
    },
    {
      "cell_type": "code",
      "execution_count": 31,
      "metadata": {
        "colab": {
          "base_uri": "https://localhost:8080/"
        },
        "id": "N0Iy6BATw-R1",
        "outputId": "ef285a2f-61bd-44ce-c84e-3b1761e56b8b"
      },
      "outputs": [
        {
          "name": "stdout",
          "output_type": "stream",
          "text": [
            "[35, 1.64, 35, 1.64]\n",
            "[70.    3.28]\n"
          ]
        }
      ],
      "source": [
        "# same operator do different things\n",
        "print(listA * 2)  # append the item values at the end\n",
        "print(arrayA * 2)  # multiply every item by two"
      ]
    },
    {
      "cell_type": "code",
      "execution_count": 33,
      "metadata": {
        "colab": {
          "base_uri": "https://localhost:8080/"
        },
        "id": "K0aWcnGsxZWn",
        "outputId": "cd22fadb-518f-45aa-94c1-ff5a99f719dc"
      },
      "outputs": [
        {
          "name": "stdout",
          "output_type": "stream",
          "text": [
            "[17.5   0.82]\n"
          ]
        },
        {
          "ename": "TypeError",
          "evalue": "unsupported operand type(s) for /: 'list' and 'int'",
          "output_type": "error",
          "traceback": [
            "\u001b[0;31m---------------------------------------------------------------------------\u001b[0m",
            "\u001b[0;31mTypeError\u001b[0m                                 Traceback (most recent call last)",
            "\u001b[0;32m/tmp/ipykernel_37834/355239536.py\u001b[0m in \u001b[0;36m<module>\u001b[0;34m\u001b[0m\n\u001b[1;32m      1\u001b[0m \u001b[0mprint\u001b[0m\u001b[0;34m(\u001b[0m\u001b[0marrayA\u001b[0m \u001b[0;34m/\u001b[0m \u001b[0;36m2\u001b[0m\u001b[0;34m)\u001b[0m\u001b[0;34m\u001b[0m\u001b[0;34m\u001b[0m\u001b[0m\n\u001b[0;32m----> 2\u001b[0;31m \u001b[0mprint\u001b[0m\u001b[0;34m(\u001b[0m\u001b[0mlistA\u001b[0m \u001b[0;34m/\u001b[0m \u001b[0;36m2\u001b[0m\u001b[0;34m)\u001b[0m\u001b[0;34m\u001b[0m\u001b[0;34m\u001b[0m\u001b[0m\n\u001b[0m",
            "\u001b[0;31mTypeError\u001b[0m: unsupported operand type(s) for /: 'list' and 'int'"
          ]
        }
      ],
      "source": [
        "# operator is not available for both variable types\n",
        "print(arrayA / 2)  # this works\n",
        "print(listA / 2)  # this raises an error - lists do not have a division operator"
      ]
    },
    {
      "cell_type": "markdown",
      "metadata": {
        "id": "OuoCNR4t2Usf"
      },
      "source": [
        "## Repeated actions"
      ]
    },
    {
      "cell_type": "code",
      "execution_count": null,
      "metadata": {
        "id": "Rx231x6A2XGv"
      },
      "outputs": [],
      "source": [
        "odds = [1, 3, 5, 7]"
      ]
    },
    {
      "cell_type": "code",
      "execution_count": null,
      "metadata": {
        "colab": {
          "base_uri": "https://localhost:8080/"
        },
        "id": "dpovzvUw2dQd",
        "outputId": "179f6868-49b0-4216-a43a-716a78a2cca5"
      },
      "outputs": [],
      "source": [
        "print(odds[0])\n",
        "print(odds[1])\n",
        "print(odds[2])\n",
        "print(odds[3])"
      ]
    },
    {
      "cell_type": "code",
      "execution_count": null,
      "metadata": {
        "colab": {
          "base_uri": "https://localhost:8080/"
        },
        "id": "UAmnVkEv35jB",
        "outputId": "2f6b90af-1e77-4ba8-c324-5f6a6cf278bf"
      },
      "outputs": [],
      "source": [
        "list(range(4))"
      ]
    },
    {
      "cell_type": "code",
      "execution_count": null,
      "metadata": {
        "colab": {
          "base_uri": "https://localhost:8080/"
        },
        "id": "-lj6Ao8Q3Vv8",
        "outputId": "e7c73935-8265-41e2-cf97-1e86e658db79"
      },
      "outputs": [],
      "source": [
        "# for loops\n",
        "\n",
        "for i in range(4):\n",
        "    print(\"i value:\", i)\n",
        "    print(\"odds value:\", odds[i])\n",
        "    print(\"-------\")"
      ]
    },
    {
      "cell_type": "code",
      "execution_count": null,
      "metadata": {
        "id": "MmUleu7S5Ay7"
      },
      "outputs": [],
      "source": [
        "for j in range(100):\n",
        "    print(\"j value:\", j)"
      ]
    },
    {
      "cell_type": "code",
      "execution_count": null,
      "metadata": {
        "colab": {
          "base_uri": "https://localhost:8080/"
        },
        "id": "2VLzo7R95mYB",
        "outputId": "d39d1566-652e-4336-c32b-339c0851f385"
      },
      "outputs": [],
      "source": [
        "for item in odds:\n",
        "    print(item)"
      ]
    }
  ],
  "metadata": {
    "colab": {
      "provenance": []
    },
    "kernelspec": {
      "display_name": "Python 3.9.13 ('base')",
      "language": "python",
      "name": "python3"
    },
    "language_info": {
      "codemirror_mode": {
        "name": "ipython",
        "version": 3
      },
      "file_extension": ".py",
      "mimetype": "text/x-python",
      "name": "python",
      "nbconvert_exporter": "python",
      "pygments_lexer": "ipython3",
      "version": "3.9.13"
    },
    "vscode": {
      "interpreter": {
        "hash": "1fe75babdc1202ac6874b4c1522ea6191ffacd755704d46ed06852d17e0c5ddb"
      }
    }
  },
  "nbformat": 4,
  "nbformat_minor": 0
}
